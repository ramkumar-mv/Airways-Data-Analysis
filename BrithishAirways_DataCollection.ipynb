{
 "cells": [
  {
   "cell_type": "markdown",
   "id": "6d837f94",
   "metadata": {},
   "source": [
    "DEMO Data collection"
   ]
  },
  {
   "cell_type": "code",
   "execution_count": 1,
   "id": "b4f0c50d",
   "metadata": {},
   "outputs": [],
   "source": [
    "import pandas as pd\n",
    "from bs4 import BeautifulSoup\n",
    "import requests"
   ]
  },
  {
   "cell_type": "code",
   "execution_count": 2,
   "id": "d2a53fff",
   "metadata": {},
   "outputs": [
    {
     "name": "stdout",
     "output_type": "stream",
     "text": [
      "Scraping page 1\n",
      " --> 100 total reviews\n",
      "Scraping page 2\n",
      " --> 200 total reviews\n",
      "Scraping page 3\n",
      " --> 300 total reviews\n",
      "Scraping page 4\n",
      " --> 400 total reviews\n",
      "Scraping page 5\n",
      " --> 500 total reviews\n",
      "Scraping page 6\n",
      " --> 600 total reviews\n",
      "Scraping page 7\n",
      " --> 700 total reviews\n",
      "Scraping page 8\n",
      " --> 800 total reviews\n",
      "Scraping page 9\n",
      " --> 900 total reviews\n",
      "Scraping page 10\n",
      " --> 1000 total reviews\n"
     ]
    }
   ],
   "source": [
    "base_url = 'https://www.airlinequality.com/airline-reviews/british-airways'\n",
    "pages=10\n",
    "page_size=100\n",
    "\n",
    "reviews=[]\n",
    "\n",
    "for i in range(1,pages+1):\n",
    "    print(f\"Scraping page {i}\")\n",
    "    url = f\"{base_url}/page/{i}?sortby=post_date%3ADesc&pagesize={page_size}\"\n",
    "    response = requests.get(url)\n",
    "    content=response.content\n",
    "    parsed_content = BeautifulSoup(content,'html.parser')\n",
    "    \n",
    "    for para in parsed_content.find_all(\"div\",{\"class\":\"text_content\"}):\n",
    "        reviews.append(para.get_text())\n",
    "    \n",
    "    print(f\" --> {len(reviews)} total reviews\")\n",
    "    "
   ]
  },
  {
   "cell_type": "code",
   "execution_count": 3,
   "id": "9cede324",
   "metadata": {},
   "outputs": [
    {
     "data": {
      "text/html": [
       "<div>\n",
       "<style scoped>\n",
       "    .dataframe tbody tr th:only-of-type {\n",
       "        vertical-align: middle;\n",
       "    }\n",
       "\n",
       "    .dataframe tbody tr th {\n",
       "        vertical-align: top;\n",
       "    }\n",
       "\n",
       "    .dataframe thead th {\n",
       "        text-align: right;\n",
       "    }\n",
       "</style>\n",
       "<table border=\"1\" class=\"dataframe\">\n",
       "  <thead>\n",
       "    <tr style=\"text-align: right;\">\n",
       "      <th></th>\n",
       "      <th>reviews</th>\n",
       "    </tr>\n",
       "  </thead>\n",
       "  <tbody>\n",
       "    <tr>\n",
       "      <th>0</th>\n",
       "      <td>✅ Trip Verified |  British Airways absolutely ...</td>\n",
       "    </tr>\n",
       "    <tr>\n",
       "      <th>1</th>\n",
       "      <td>✅ Trip Verified |  My recent experience with B...</td>\n",
       "    </tr>\n",
       "    <tr>\n",
       "      <th>2</th>\n",
       "      <td>✅ Trip Verified |  This is to express our disp...</td>\n",
       "    </tr>\n",
       "    <tr>\n",
       "      <th>3</th>\n",
       "      <td>✅ Trip Verified |  I flew London to Malaga on ...</td>\n",
       "    </tr>\n",
       "    <tr>\n",
       "      <th>4</th>\n",
       "      <td>✅ Trip Verified |  I arrived at the airport ab...</td>\n",
       "    </tr>\n",
       "  </tbody>\n",
       "</table>\n",
       "</div>"
      ],
      "text/plain": [
       "                                             reviews\n",
       "0  ✅ Trip Verified |  British Airways absolutely ...\n",
       "1  ✅ Trip Verified |  My recent experience with B...\n",
       "2  ✅ Trip Verified |  This is to express our disp...\n",
       "3  ✅ Trip Verified |  I flew London to Malaga on ...\n",
       "4  ✅ Trip Verified |  I arrived at the airport ab..."
      ]
     },
     "execution_count": 3,
     "metadata": {},
     "output_type": "execute_result"
    }
   ],
   "source": [
    "df = pd.DataFrame()\n",
    "df[\"reviews\"] = reviews\n",
    "df.head()"
   ]
  },
  {
   "cell_type": "code",
   "execution_count": 4,
   "id": "7cb5aded",
   "metadata": {},
   "outputs": [],
   "source": [
    "df.to_csv(\"BA_REVIEWS.csv\")"
   ]
  },
  {
   "cell_type": "markdown",
   "id": "d09ff6fb",
   "metadata": {},
   "source": [
    "DATA COLLECTION"
   ]
  },
  {
   "cell_type": "code",
   "execution_count": 5,
   "id": "55fb2463",
   "metadata": {},
   "outputs": [],
   "source": [
    "import pandas as pd\n",
    "import numpy as np\n",
    "from bs4 import BeautifulSoup\n",
    "import requests"
   ]
  },
  {
   "cell_type": "code",
   "execution_count": 6,
   "id": "3eecec43",
   "metadata": {},
   "outputs": [],
   "source": [
    "reviews=[]\n",
    "stars=[]\n",
    "date=[]\n",
    "country=[]"
   ]
  },
  {
   "cell_type": "code",
   "execution_count": 7,
   "id": "f3c2199e",
   "metadata": {},
   "outputs": [
    {
     "name": "stdout",
     "output_type": "stream",
     "text": [
      "Error on page 31\n",
      "Error on page 32\n",
      "Error on page 33\n",
      "Error on page 35\n",
      "Error on page 35\n"
     ]
    }
   ],
   "source": [
    "for i in range(1, 36):\n",
    "    page = requests.get(f\"https://www.airlinequality.com/airline-reviews/british-airways/page/{i}/?sortby=post_date%3ADesc&pagesize=100\")\n",
    "    soup = BeautifulSoup(page.content, \"html.parser\")\n",
    "    for item in soup.find_all(\"div\", class_=\"text_content\"):\n",
    "        reviews.append(item.text)\n",
    "    for item in soup.find_all(\"div\", class_ = \"rating-10\"):\n",
    "        try:\n",
    "            stars.append(item.span.text)\n",
    "        except:\n",
    "            print(f\"Error on page {i}\")\n",
    "            stars.append(\"None\")\n",
    "    for item in soup.find_all(\"time\"):\n",
    "        date.append(item.text)\n",
    "    for item in soup.find_all(\"h3\"):\n",
    "        country.append(item.span.next_sibling.text.strip(\" ()\"))"
   ]
  },
  {
   "cell_type": "code",
   "execution_count": 8,
   "id": "85629538",
   "metadata": {},
   "outputs": [
    {
     "data": {
      "text/plain": [
       "3500"
      ]
     },
     "execution_count": 8,
     "metadata": {},
     "output_type": "execute_result"
    }
   ],
   "source": [
    "len(reviews)"
   ]
  },
  {
   "cell_type": "code",
   "execution_count": 9,
   "id": "af14ccf2",
   "metadata": {},
   "outputs": [
    {
     "data": {
      "text/plain": [
       "3500"
      ]
     },
     "execution_count": 9,
     "metadata": {},
     "output_type": "execute_result"
    }
   ],
   "source": [
    "len(country)"
   ]
  },
  {
   "cell_type": "code",
   "execution_count": 10,
   "id": "74d9dd76",
   "metadata": {},
   "outputs": [],
   "source": [
    "stars=stars[:3500]"
   ]
  },
  {
   "cell_type": "code",
   "execution_count": 11,
   "id": "11614e8b",
   "metadata": {},
   "outputs": [
    {
     "data": {
      "text/html": [
       "<div>\n",
       "<style scoped>\n",
       "    .dataframe tbody tr th:only-of-type {\n",
       "        vertical-align: middle;\n",
       "    }\n",
       "\n",
       "    .dataframe tbody tr th {\n",
       "        vertical-align: top;\n",
       "    }\n",
       "\n",
       "    .dataframe thead th {\n",
       "        text-align: right;\n",
       "    }\n",
       "</style>\n",
       "<table border=\"1\" class=\"dataframe\">\n",
       "  <thead>\n",
       "    <tr style=\"text-align: right;\">\n",
       "      <th></th>\n",
       "      <th>reviews</th>\n",
       "      <th>stars</th>\n",
       "      <th>date</th>\n",
       "      <th>country</th>\n",
       "    </tr>\n",
       "  </thead>\n",
       "  <tbody>\n",
       "    <tr>\n",
       "      <th>0</th>\n",
       "      <td>✅ Trip Verified |  British Airways absolutely ...</td>\n",
       "      <td>\\n\\t\\t\\t\\t\\t\\t\\t\\t\\t\\t\\t\\t\\t5</td>\n",
       "      <td>1st September 2023</td>\n",
       "      <td>United Kingdom</td>\n",
       "    </tr>\n",
       "    <tr>\n",
       "      <th>1</th>\n",
       "      <td>✅ Trip Verified |  My recent experience with B...</td>\n",
       "      <td>1</td>\n",
       "      <td>1st September 2023</td>\n",
       "      <td>United States</td>\n",
       "    </tr>\n",
       "    <tr>\n",
       "      <th>2</th>\n",
       "      <td>✅ Trip Verified |  This is to express our disp...</td>\n",
       "      <td>1</td>\n",
       "      <td>31st August 2023</td>\n",
       "      <td>United States</td>\n",
       "    </tr>\n",
       "    <tr>\n",
       "      <th>3</th>\n",
       "      <td>✅ Trip Verified |  I flew London to Malaga on ...</td>\n",
       "      <td>1</td>\n",
       "      <td>30th August 2023</td>\n",
       "      <td>United Kingdom</td>\n",
       "    </tr>\n",
       "    <tr>\n",
       "      <th>4</th>\n",
       "      <td>✅ Trip Verified |  I arrived at the airport ab...</td>\n",
       "      <td>1</td>\n",
       "      <td>30th August 2023</td>\n",
       "      <td>Germany</td>\n",
       "    </tr>\n",
       "    <tr>\n",
       "      <th>...</th>\n",
       "      <td>...</td>\n",
       "      <td>...</td>\n",
       "      <td>...</td>\n",
       "      <td>...</td>\n",
       "    </tr>\n",
       "    <tr>\n",
       "      <th>3495</th>\n",
       "      <td>LHR-IAD BA 293 B772ER Club World. Checked-in f...</td>\n",
       "      <td>3</td>\n",
       "      <td>6th July 2014</td>\n",
       "      <td>United States</td>\n",
       "    </tr>\n",
       "    <tr>\n",
       "      <th>3496</th>\n",
       "      <td>We paid top money for Club Europe and upon lea...</td>\n",
       "      <td>9</td>\n",
       "      <td>6th July 2014</td>\n",
       "      <td>New Zealand</td>\n",
       "    </tr>\n",
       "    <tr>\n",
       "      <th>3497</th>\n",
       "      <td>Montreal - LHR. I love BA but sometimes they h...</td>\n",
       "      <td>6</td>\n",
       "      <td>6th July 2014</td>\n",
       "      <td>United Kingdom</td>\n",
       "    </tr>\n",
       "    <tr>\n",
       "      <th>3498</th>\n",
       "      <td>I flew AMS-LGW-MCO and JFK-LHR-AMS this month....</td>\n",
       "      <td>7</td>\n",
       "      <td>1st July 2014</td>\n",
       "      <td>Netherlands</td>\n",
       "    </tr>\n",
       "    <tr>\n",
       "      <th>3499</th>\n",
       "      <td>LHR-PEK-LHR. We travel BA club world often and...</td>\n",
       "      <td>9</td>\n",
       "      <td>30th June 2014</td>\n",
       "      <td>Spain</td>\n",
       "    </tr>\n",
       "  </tbody>\n",
       "</table>\n",
       "<p>3500 rows × 4 columns</p>\n",
       "</div>"
      ],
      "text/plain": [
       "                                                reviews  \\\n",
       "0     ✅ Trip Verified |  British Airways absolutely ...   \n",
       "1     ✅ Trip Verified |  My recent experience with B...   \n",
       "2     ✅ Trip Verified |  This is to express our disp...   \n",
       "3     ✅ Trip Verified |  I flew London to Malaga on ...   \n",
       "4     ✅ Trip Verified |  I arrived at the airport ab...   \n",
       "...                                                 ...   \n",
       "3495  LHR-IAD BA 293 B772ER Club World. Checked-in f...   \n",
       "3496  We paid top money for Club Europe and upon lea...   \n",
       "3497  Montreal - LHR. I love BA but sometimes they h...   \n",
       "3498  I flew AMS-LGW-MCO and JFK-LHR-AMS this month....   \n",
       "3499  LHR-PEK-LHR. We travel BA club world often and...   \n",
       "\n",
       "                              stars                date         country  \n",
       "0     \\n\\t\\t\\t\\t\\t\\t\\t\\t\\t\\t\\t\\t\\t5  1st September 2023  United Kingdom  \n",
       "1                                 1  1st September 2023   United States  \n",
       "2                                 1    31st August 2023   United States  \n",
       "3                                 1    30th August 2023  United Kingdom  \n",
       "4                                 1    30th August 2023         Germany  \n",
       "...                             ...                 ...             ...  \n",
       "3495                              3       6th July 2014   United States  \n",
       "3496                              9       6th July 2014     New Zealand  \n",
       "3497                              6       6th July 2014  United Kingdom  \n",
       "3498                              7       1st July 2014     Netherlands  \n",
       "3499                              9      30th June 2014           Spain  \n",
       "\n",
       "[3500 rows x 4 columns]"
      ]
     },
     "execution_count": 11,
     "metadata": {},
     "output_type": "execute_result"
    }
   ],
   "source": [
    "df= pd.DataFrame({\"reviews\":reviews,\"stars\":stars,\"date\":date,\"country\":country})\n",
    "df"
   ]
  },
  {
   "cell_type": "code",
   "execution_count": 12,
   "id": "1ec01a1e",
   "metadata": {},
   "outputs": [
    {
     "data": {
      "text/plain": [
       "(3500, 4)"
      ]
     },
     "execution_count": 12,
     "metadata": {},
     "output_type": "execute_result"
    }
   ],
   "source": [
    "df.shape"
   ]
  },
  {
   "cell_type": "code",
   "execution_count": 13,
   "id": "6bdb6ae6",
   "metadata": {},
   "outputs": [],
   "source": [
    "df.to_csv('BAdataset.csv',index='false')"
   ]
  },
  {
   "cell_type": "markdown",
   "id": "0d1ed14e",
   "metadata": {},
   "source": [
    "Data Cleaning"
   ]
  },
  {
   "cell_type": "code",
   "execution_count": 14,
   "id": "3cfcc501",
   "metadata": {},
   "outputs": [],
   "source": [
    "import pandas as pd\n",
    "import numpy as np\n",
    "import seaborn as sns\n",
    "import os\n",
    "\n",
    "import re"
   ]
  },
  {
   "cell_type": "code",
   "execution_count": 15,
   "id": "ad0d5852",
   "metadata": {},
   "outputs": [
    {
     "data": {
      "text/html": [
       "<div>\n",
       "<style scoped>\n",
       "    .dataframe tbody tr th:only-of-type {\n",
       "        vertical-align: middle;\n",
       "    }\n",
       "\n",
       "    .dataframe tbody tr th {\n",
       "        vertical-align: top;\n",
       "    }\n",
       "\n",
       "    .dataframe thead th {\n",
       "        text-align: right;\n",
       "    }\n",
       "</style>\n",
       "<table border=\"1\" class=\"dataframe\">\n",
       "  <thead>\n",
       "    <tr style=\"text-align: right;\">\n",
       "      <th></th>\n",
       "      <th>reviews</th>\n",
       "      <th>stars</th>\n",
       "      <th>date</th>\n",
       "      <th>country</th>\n",
       "    </tr>\n",
       "  </thead>\n",
       "  <tbody>\n",
       "    <tr>\n",
       "      <th>0</th>\n",
       "      <td>✅ Trip Verified |  British Airways absolutely ...</td>\n",
       "      <td>\\n\\t\\t\\t\\t\\t\\t\\t\\t\\t\\t\\t\\t\\t5</td>\n",
       "      <td>1st September 2023</td>\n",
       "      <td>United Kingdom</td>\n",
       "    </tr>\n",
       "    <tr>\n",
       "      <th>1</th>\n",
       "      <td>✅ Trip Verified |  My recent experience with B...</td>\n",
       "      <td>1</td>\n",
       "      <td>1st September 2023</td>\n",
       "      <td>United States</td>\n",
       "    </tr>\n",
       "    <tr>\n",
       "      <th>2</th>\n",
       "      <td>✅ Trip Verified |  This is to express our disp...</td>\n",
       "      <td>1</td>\n",
       "      <td>31st August 2023</td>\n",
       "      <td>United States</td>\n",
       "    </tr>\n",
       "    <tr>\n",
       "      <th>3</th>\n",
       "      <td>✅ Trip Verified |  I flew London to Malaga on ...</td>\n",
       "      <td>1</td>\n",
       "      <td>30th August 2023</td>\n",
       "      <td>United Kingdom</td>\n",
       "    </tr>\n",
       "    <tr>\n",
       "      <th>4</th>\n",
       "      <td>✅ Trip Verified |  I arrived at the airport ab...</td>\n",
       "      <td>1</td>\n",
       "      <td>30th August 2023</td>\n",
       "      <td>Germany</td>\n",
       "    </tr>\n",
       "  </tbody>\n",
       "</table>\n",
       "</div>"
      ],
      "text/plain": [
       "                                             reviews  \\\n",
       "0  ✅ Trip Verified |  British Airways absolutely ...   \n",
       "1  ✅ Trip Verified |  My recent experience with B...   \n",
       "2  ✅ Trip Verified |  This is to express our disp...   \n",
       "3  ✅ Trip Verified |  I flew London to Malaga on ...   \n",
       "4  ✅ Trip Verified |  I arrived at the airport ab...   \n",
       "\n",
       "                           stars                date         country  \n",
       "0  \\n\\t\\t\\t\\t\\t\\t\\t\\t\\t\\t\\t\\t\\t5  1st September 2023  United Kingdom  \n",
       "1                              1  1st September 2023   United States  \n",
       "2                              1    31st August 2023   United States  \n",
       "3                              1    30th August 2023  United Kingdom  \n",
       "4                              1    30th August 2023         Germany  "
      ]
     },
     "execution_count": 15,
     "metadata": {},
     "output_type": "execute_result"
    }
   ],
   "source": [
    "df.head()"
   ]
  },
  {
   "cell_type": "code",
   "execution_count": 16,
   "id": "f373f23a",
   "metadata": {},
   "outputs": [
    {
     "data": {
      "text/html": [
       "<div>\n",
       "<style scoped>\n",
       "    .dataframe tbody tr th:only-of-type {\n",
       "        vertical-align: middle;\n",
       "    }\n",
       "\n",
       "    .dataframe tbody tr th {\n",
       "        vertical-align: top;\n",
       "    }\n",
       "\n",
       "    .dataframe thead th {\n",
       "        text-align: right;\n",
       "    }\n",
       "</style>\n",
       "<table border=\"1\" class=\"dataframe\">\n",
       "  <thead>\n",
       "    <tr style=\"text-align: right;\">\n",
       "      <th></th>\n",
       "      <th>reviews</th>\n",
       "      <th>stars</th>\n",
       "      <th>date</th>\n",
       "      <th>country</th>\n",
       "      <th>verified</th>\n",
       "    </tr>\n",
       "  </thead>\n",
       "  <tbody>\n",
       "    <tr>\n",
       "      <th>0</th>\n",
       "      <td>✅ Trip Verified |  British Airways absolutely ...</td>\n",
       "      <td>\\n\\t\\t\\t\\t\\t\\t\\t\\t\\t\\t\\t\\t\\t5</td>\n",
       "      <td>1st September 2023</td>\n",
       "      <td>United Kingdom</td>\n",
       "      <td>True</td>\n",
       "    </tr>\n",
       "    <tr>\n",
       "      <th>1</th>\n",
       "      <td>✅ Trip Verified |  My recent experience with B...</td>\n",
       "      <td>1</td>\n",
       "      <td>1st September 2023</td>\n",
       "      <td>United States</td>\n",
       "      <td>True</td>\n",
       "    </tr>\n",
       "    <tr>\n",
       "      <th>2</th>\n",
       "      <td>✅ Trip Verified |  This is to express our disp...</td>\n",
       "      <td>1</td>\n",
       "      <td>31st August 2023</td>\n",
       "      <td>United States</td>\n",
       "      <td>True</td>\n",
       "    </tr>\n",
       "    <tr>\n",
       "      <th>3</th>\n",
       "      <td>✅ Trip Verified |  I flew London to Malaga on ...</td>\n",
       "      <td>1</td>\n",
       "      <td>30th August 2023</td>\n",
       "      <td>United Kingdom</td>\n",
       "      <td>True</td>\n",
       "    </tr>\n",
       "    <tr>\n",
       "      <th>4</th>\n",
       "      <td>✅ Trip Verified |  I arrived at the airport ab...</td>\n",
       "      <td>1</td>\n",
       "      <td>30th August 2023</td>\n",
       "      <td>Germany</td>\n",
       "      <td>True</td>\n",
       "    </tr>\n",
       "    <tr>\n",
       "      <th>...</th>\n",
       "      <td>...</td>\n",
       "      <td>...</td>\n",
       "      <td>...</td>\n",
       "      <td>...</td>\n",
       "      <td>...</td>\n",
       "    </tr>\n",
       "    <tr>\n",
       "      <th>3495</th>\n",
       "      <td>LHR-IAD BA 293 B772ER Club World. Checked-in f...</td>\n",
       "      <td>3</td>\n",
       "      <td>6th July 2014</td>\n",
       "      <td>United States</td>\n",
       "      <td>False</td>\n",
       "    </tr>\n",
       "    <tr>\n",
       "      <th>3496</th>\n",
       "      <td>We paid top money for Club Europe and upon lea...</td>\n",
       "      <td>9</td>\n",
       "      <td>6th July 2014</td>\n",
       "      <td>New Zealand</td>\n",
       "      <td>False</td>\n",
       "    </tr>\n",
       "    <tr>\n",
       "      <th>3497</th>\n",
       "      <td>Montreal - LHR. I love BA but sometimes they h...</td>\n",
       "      <td>6</td>\n",
       "      <td>6th July 2014</td>\n",
       "      <td>United Kingdom</td>\n",
       "      <td>False</td>\n",
       "    </tr>\n",
       "    <tr>\n",
       "      <th>3498</th>\n",
       "      <td>I flew AMS-LGW-MCO and JFK-LHR-AMS this month....</td>\n",
       "      <td>7</td>\n",
       "      <td>1st July 2014</td>\n",
       "      <td>Netherlands</td>\n",
       "      <td>False</td>\n",
       "    </tr>\n",
       "    <tr>\n",
       "      <th>3499</th>\n",
       "      <td>LHR-PEK-LHR. We travel BA club world often and...</td>\n",
       "      <td>9</td>\n",
       "      <td>30th June 2014</td>\n",
       "      <td>Spain</td>\n",
       "      <td>False</td>\n",
       "    </tr>\n",
       "  </tbody>\n",
       "</table>\n",
       "<p>3500 rows × 5 columns</p>\n",
       "</div>"
      ],
      "text/plain": [
       "                                                reviews  \\\n",
       "0     ✅ Trip Verified |  British Airways absolutely ...   \n",
       "1     ✅ Trip Verified |  My recent experience with B...   \n",
       "2     ✅ Trip Verified |  This is to express our disp...   \n",
       "3     ✅ Trip Verified |  I flew London to Malaga on ...   \n",
       "4     ✅ Trip Verified |  I arrived at the airport ab...   \n",
       "...                                                 ...   \n",
       "3495  LHR-IAD BA 293 B772ER Club World. Checked-in f...   \n",
       "3496  We paid top money for Club Europe and upon lea...   \n",
       "3497  Montreal - LHR. I love BA but sometimes they h...   \n",
       "3498  I flew AMS-LGW-MCO and JFK-LHR-AMS this month....   \n",
       "3499  LHR-PEK-LHR. We travel BA club world often and...   \n",
       "\n",
       "                              stars                date         country  \\\n",
       "0     \\n\\t\\t\\t\\t\\t\\t\\t\\t\\t\\t\\t\\t\\t5  1st September 2023  United Kingdom   \n",
       "1                                 1  1st September 2023   United States   \n",
       "2                                 1    31st August 2023   United States   \n",
       "3                                 1    30th August 2023  United Kingdom   \n",
       "4                                 1    30th August 2023         Germany   \n",
       "...                             ...                 ...             ...   \n",
       "3495                              3       6th July 2014   United States   \n",
       "3496                              9       6th July 2014     New Zealand   \n",
       "3497                              6       6th July 2014  United Kingdom   \n",
       "3498                              7       1st July 2014     Netherlands   \n",
       "3499                              9      30th June 2014           Spain   \n",
       "\n",
       "      verified  \n",
       "0         True  \n",
       "1         True  \n",
       "2         True  \n",
       "3         True  \n",
       "4         True  \n",
       "...        ...  \n",
       "3495     False  \n",
       "3496     False  \n",
       "3497     False  \n",
       "3498     False  \n",
       "3499     False  \n",
       "\n",
       "[3500 rows x 5 columns]"
      ]
     },
     "execution_count": 16,
     "metadata": {},
     "output_type": "execute_result"
    }
   ],
   "source": [
    "df['verified'] = df.reviews.str.contains(\"Trip Verified\")\n",
    "df"
   ]
  },
  {
   "cell_type": "code",
   "execution_count": 17,
   "id": "80a02311",
   "metadata": {},
   "outputs": [
    {
     "name": "stderr",
     "output_type": "stream",
     "text": [
      "[nltk_data] Downloading package stopwords to\n",
      "[nltk_data]     /Users/ramkumarmv/nltk_data...\n",
      "[nltk_data]   Package stopwords is already up-to-date!\n",
      "[nltk_data] Downloading package wordnet to\n",
      "[nltk_data]     /Users/ramkumarmv/nltk_data...\n",
      "[nltk_data]   Package wordnet is already up-to-date!\n",
      "[nltk_data] Downloading package omw-1.4 to\n",
      "[nltk_data]     /Users/ramkumarmv/nltk_data...\n",
      "[nltk_data]   Package omw-1.4 is already up-to-date!\n"
     ]
    },
    {
     "data": {
      "text/plain": [
       "True"
      ]
     },
     "execution_count": 17,
     "metadata": {},
     "output_type": "execute_result"
    }
   ],
   "source": [
    "import nltk\n",
    "nltk.download('stopwords')\n",
    "nltk.download('wordnet')\n",
    "nltk.download('omw-1.4')"
   ]
  },
  {
   "cell_type": "code",
   "execution_count": 18,
   "id": "ff4ef9be",
   "metadata": {},
   "outputs": [],
   "source": [
    "from nltk.stem import WordNetLemmatizer\n",
    "from nltk.corpus import stopwords\n",
    "lemma = WordNetLemmatizer()\n",
    "\n",
    "reviews_data = df.reviews.str.strip(\"✅ Trip Verified |\")\n",
    "\n",
    "corpus=[]\n",
    "\n",
    "for rev in reviews_data:\n",
    "    rev=re.sub('[^a-zA-Z]',' ', rev)\n",
    "    rev=rev.lower()\n",
    "    rev=rev.split()\n",
    "    rev = [lemma.lemmatize(word) for word in rev if word not in set(stopwords.words(\"english\"))]\n",
    "    rev = \" \".join(rev)\n",
    "    corpus.append(rev)"
   ]
  },
  {
   "cell_type": "code",
   "execution_count": 19,
   "id": "f6e7376a",
   "metadata": {},
   "outputs": [],
   "source": [
    "df['corpus'] = corpus"
   ]
  },
  {
   "cell_type": "code",
   "execution_count": 20,
   "id": "95158bd8",
   "metadata": {},
   "outputs": [
    {
     "data": {
      "text/html": [
       "<div>\n",
       "<style scoped>\n",
       "    .dataframe tbody tr th:only-of-type {\n",
       "        vertical-align: middle;\n",
       "    }\n",
       "\n",
       "    .dataframe tbody tr th {\n",
       "        vertical-align: top;\n",
       "    }\n",
       "\n",
       "    .dataframe thead th {\n",
       "        text-align: right;\n",
       "    }\n",
       "</style>\n",
       "<table border=\"1\" class=\"dataframe\">\n",
       "  <thead>\n",
       "    <tr style=\"text-align: right;\">\n",
       "      <th></th>\n",
       "      <th>reviews</th>\n",
       "      <th>stars</th>\n",
       "      <th>date</th>\n",
       "      <th>country</th>\n",
       "      <th>verified</th>\n",
       "      <th>corpus</th>\n",
       "    </tr>\n",
       "  </thead>\n",
       "  <tbody>\n",
       "    <tr>\n",
       "      <th>0</th>\n",
       "      <td>✅ Trip Verified |  British Airways absolutely ...</td>\n",
       "      <td>\\n\\t\\t\\t\\t\\t\\t\\t\\t\\t\\t\\t\\t\\t5</td>\n",
       "      <td>1st September 2023</td>\n",
       "      <td>United Kingdom</td>\n",
       "      <td>True</td>\n",
       "      <td>british airway absolutely care reserved seat c...</td>\n",
       "    </tr>\n",
       "    <tr>\n",
       "      <th>1</th>\n",
       "      <td>✅ Trip Verified |  My recent experience with B...</td>\n",
       "      <td>1</td>\n",
       "      <td>1st September 2023</td>\n",
       "      <td>United States</td>\n",
       "      <td>True</td>\n",
       "      <td>recent experience british airway horrendous ut...</td>\n",
       "    </tr>\n",
       "    <tr>\n",
       "      <th>2</th>\n",
       "      <td>✅ Trip Verified |  This is to express our disp...</td>\n",
       "      <td>1</td>\n",
       "      <td>31st August 2023</td>\n",
       "      <td>United States</td>\n",
       "      <td>True</td>\n",
       "      <td>express displeasure concern regarding flight i...</td>\n",
       "    </tr>\n",
       "    <tr>\n",
       "      <th>3</th>\n",
       "      <td>✅ Trip Verified |  I flew London to Malaga on ...</td>\n",
       "      <td>1</td>\n",
       "      <td>30th August 2023</td>\n",
       "      <td>United Kingdom</td>\n",
       "      <td>True</td>\n",
       "      <td>flew london malaga august club europe stood ar...</td>\n",
       "    </tr>\n",
       "    <tr>\n",
       "      <th>4</th>\n",
       "      <td>✅ Trip Verified |  I arrived at the airport ab...</td>\n",
       "      <td>1</td>\n",
       "      <td>30th August 2023</td>\n",
       "      <td>Germany</td>\n",
       "      <td>True</td>\n",
       "      <td>arrived airport hour takeoff time get checked ...</td>\n",
       "    </tr>\n",
       "    <tr>\n",
       "      <th>...</th>\n",
       "      <td>...</td>\n",
       "      <td>...</td>\n",
       "      <td>...</td>\n",
       "      <td>...</td>\n",
       "      <td>...</td>\n",
       "      <td>...</td>\n",
       "    </tr>\n",
       "    <tr>\n",
       "      <th>3495</th>\n",
       "      <td>LHR-IAD BA 293 B772ER Club World. Checked-in f...</td>\n",
       "      <td>3</td>\n",
       "      <td>6th July 2014</td>\n",
       "      <td>United States</td>\n",
       "      <td>False</td>\n",
       "      <td>lhr iad ba b er club world checked fairly quic...</td>\n",
       "    </tr>\n",
       "    <tr>\n",
       "      <th>3496</th>\n",
       "      <td>We paid top money for Club Europe and upon lea...</td>\n",
       "      <td>9</td>\n",
       "      <td>6th July 2014</td>\n",
       "      <td>New Zealand</td>\n",
       "      <td>False</td>\n",
       "      <td>paid top money club europe upon leaving uk tho...</td>\n",
       "    </tr>\n",
       "    <tr>\n",
       "      <th>3497</th>\n",
       "      <td>Montreal - LHR. I love BA but sometimes they h...</td>\n",
       "      <td>6</td>\n",
       "      <td>6th July 2014</td>\n",
       "      <td>United Kingdom</td>\n",
       "      <td>False</td>\n",
       "      <td>montreal lhr love ba sometimes day one crew re...</td>\n",
       "    </tr>\n",
       "    <tr>\n",
       "      <th>3498</th>\n",
       "      <td>I flew AMS-LGW-MCO and JFK-LHR-AMS this month....</td>\n",
       "      <td>7</td>\n",
       "      <td>1st July 2014</td>\n",
       "      <td>Netherlands</td>\n",
       "      <td>False</td>\n",
       "      <td>flew am lgw mco jfk lhr am month overall accep...</td>\n",
       "    </tr>\n",
       "    <tr>\n",
       "      <th>3499</th>\n",
       "      <td>LHR-PEK-LHR. We travel BA club world often and...</td>\n",
       "      <td>9</td>\n",
       "      <td>30th June 2014</td>\n",
       "      <td>Spain</td>\n",
       "      <td>False</td>\n",
       "      <td>lhr pek lhr travel ba club world often overall...</td>\n",
       "    </tr>\n",
       "  </tbody>\n",
       "</table>\n",
       "<p>3500 rows × 6 columns</p>\n",
       "</div>"
      ],
      "text/plain": [
       "                                                reviews  \\\n",
       "0     ✅ Trip Verified |  British Airways absolutely ...   \n",
       "1     ✅ Trip Verified |  My recent experience with B...   \n",
       "2     ✅ Trip Verified |  This is to express our disp...   \n",
       "3     ✅ Trip Verified |  I flew London to Malaga on ...   \n",
       "4     ✅ Trip Verified |  I arrived at the airport ab...   \n",
       "...                                                 ...   \n",
       "3495  LHR-IAD BA 293 B772ER Club World. Checked-in f...   \n",
       "3496  We paid top money for Club Europe and upon lea...   \n",
       "3497  Montreal - LHR. I love BA but sometimes they h...   \n",
       "3498  I flew AMS-LGW-MCO and JFK-LHR-AMS this month....   \n",
       "3499  LHR-PEK-LHR. We travel BA club world often and...   \n",
       "\n",
       "                              stars                date         country  \\\n",
       "0     \\n\\t\\t\\t\\t\\t\\t\\t\\t\\t\\t\\t\\t\\t5  1st September 2023  United Kingdom   \n",
       "1                                 1  1st September 2023   United States   \n",
       "2                                 1    31st August 2023   United States   \n",
       "3                                 1    30th August 2023  United Kingdom   \n",
       "4                                 1    30th August 2023         Germany   \n",
       "...                             ...                 ...             ...   \n",
       "3495                              3       6th July 2014   United States   \n",
       "3496                              9       6th July 2014     New Zealand   \n",
       "3497                              6       6th July 2014  United Kingdom   \n",
       "3498                              7       1st July 2014     Netherlands   \n",
       "3499                              9      30th June 2014           Spain   \n",
       "\n",
       "      verified                                             corpus  \n",
       "0         True  british airway absolutely care reserved seat c...  \n",
       "1         True  recent experience british airway horrendous ut...  \n",
       "2         True  express displeasure concern regarding flight i...  \n",
       "3         True  flew london malaga august club europe stood ar...  \n",
       "4         True  arrived airport hour takeoff time get checked ...  \n",
       "...        ...                                                ...  \n",
       "3495     False  lhr iad ba b er club world checked fairly quic...  \n",
       "3496     False  paid top money club europe upon leaving uk tho...  \n",
       "3497     False  montreal lhr love ba sometimes day one crew re...  \n",
       "3498     False  flew am lgw mco jfk lhr am month overall accep...  \n",
       "3499     False  lhr pek lhr travel ba club world often overall...  \n",
       "\n",
       "[3500 rows x 6 columns]"
      ]
     },
     "execution_count": 20,
     "metadata": {},
     "output_type": "execute_result"
    }
   ],
   "source": [
    "df"
   ]
  },
  {
   "cell_type": "markdown",
   "id": "95364b2a",
   "metadata": {},
   "source": [
    "Cleaning/format date"
   ]
  },
  {
   "cell_type": "code",
   "execution_count": 21,
   "id": "4757e0a8",
   "metadata": {},
   "outputs": [
    {
     "data": {
      "text/plain": [
       "reviews     object\n",
       "stars       object\n",
       "date        object\n",
       "country     object\n",
       "verified      bool\n",
       "corpus      object\n",
       "dtype: object"
      ]
     },
     "execution_count": 21,
     "metadata": {},
     "output_type": "execute_result"
    }
   ],
   "source": [
    "df.dtypes"
   ]
  },
  {
   "cell_type": "code",
   "execution_count": 22,
   "id": "ad433a3e",
   "metadata": {},
   "outputs": [],
   "source": [
    "df.date = pd.to_datetime(df.date)"
   ]
  },
  {
   "cell_type": "code",
   "execution_count": 23,
   "id": "032a563c",
   "metadata": {},
   "outputs": [
    {
     "data": {
      "text/plain": [
       "0   2023-09-01\n",
       "1   2023-09-01\n",
       "2   2023-08-31\n",
       "3   2023-08-30\n",
       "4   2023-08-30\n",
       "Name: date, dtype: datetime64[ns]"
      ]
     },
     "execution_count": 23,
     "metadata": {},
     "output_type": "execute_result"
    }
   ],
   "source": [
    "df.date.head()"
   ]
  },
  {
   "cell_type": "markdown",
   "id": "5564000c",
   "metadata": {},
   "source": [
    "Star cleaning"
   ]
  },
  {
   "cell_type": "code",
   "execution_count": 24,
   "id": "c46bde13",
   "metadata": {},
   "outputs": [
    {
     "data": {
      "text/plain": [
       "array(['\\n\\t\\t\\t\\t\\t\\t\\t\\t\\t\\t\\t\\t\\t5', '1', '3', '8', '4', '7', '2',\n",
       "       '10', '9', '6', '5', 'None'], dtype=object)"
      ]
     },
     "execution_count": 24,
     "metadata": {},
     "output_type": "execute_result"
    }
   ],
   "source": [
    "df.stars.unique()"
   ]
  },
  {
   "cell_type": "code",
   "execution_count": 25,
   "id": "ded991b1",
   "metadata": {},
   "outputs": [],
   "source": [
    "df.stars = df.stars.str.strip(\"\\n\\t\\t\\t\\t\\t\\t\\t\\t\\t\\t\\t\\t\\t\")"
   ]
  },
  {
   "cell_type": "code",
   "execution_count": 26,
   "id": "a1ca7dfc",
   "metadata": {},
   "outputs": [
    {
     "data": {
      "text/plain": [
       "1       819\n",
       "2       402\n",
       "3       390\n",
       "8       345\n",
       "10      297\n",
       "9       292\n",
       "7       289\n",
       "5       250\n",
       "4       240\n",
       "6       172\n",
       "None      4\n",
       "Name: stars, dtype: int64"
      ]
     },
     "execution_count": 26,
     "metadata": {},
     "output_type": "execute_result"
    }
   ],
   "source": [
    "df.stars.value_counts()"
   ]
  },
  {
   "cell_type": "code",
   "execution_count": 27,
   "id": "9ce5fd4a",
   "metadata": {},
   "outputs": [],
   "source": [
    "df.drop(df[df.stars == \"None\"].index, axis=0, inplace=True)"
   ]
  },
  {
   "cell_type": "code",
   "execution_count": 28,
   "id": "cfbde58a",
   "metadata": {},
   "outputs": [
    {
     "data": {
      "text/plain": [
       "array(['5', '1', '3', '8', '4', '7', '2', '10', '9', '6'], dtype=object)"
      ]
     },
     "execution_count": 28,
     "metadata": {},
     "output_type": "execute_result"
    }
   ],
   "source": [
    "df.stars.unique()"
   ]
  },
  {
   "cell_type": "markdown",
   "id": "bf481dc2",
   "metadata": {},
   "source": [
    "Check for null values"
   ]
  },
  {
   "cell_type": "code",
   "execution_count": 30,
   "id": "e7f68a0f",
   "metadata": {},
   "outputs": [
    {
     "data": {
      "text/plain": [
       "reviews  stars  date   country  verified  corpus\n",
       "False    False  False  False    False     False     3496\n",
       "dtype: int64"
      ]
     },
     "execution_count": 30,
     "metadata": {},
     "output_type": "execute_result"
    }
   ],
   "source": [
    "df.isnull().value_counts()"
   ]
  },
  {
   "cell_type": "code",
   "execution_count": 31,
   "id": "a5be142b",
   "metadata": {},
   "outputs": [
    {
     "data": {
      "text/plain": [
       "False    3496\n",
       "Name: country, dtype: int64"
      ]
     },
     "execution_count": 31,
     "metadata": {},
     "output_type": "execute_result"
    }
   ],
   "source": [
    "df.country.isnull().value_counts()"
   ]
  },
  {
   "cell_type": "code",
   "execution_count": 32,
   "id": "587bcac0",
   "metadata": {},
   "outputs": [],
   "source": [
    "df.drop(df[df.country.isnull()==True].index,axis=0,inplace=True)"
   ]
  },
  {
   "cell_type": "code",
   "execution_count": 33,
   "id": "97b1c1a6",
   "metadata": {},
   "outputs": [
    {
     "data": {
      "text/plain": [
       "(3496, 6)"
      ]
     },
     "execution_count": 33,
     "metadata": {},
     "output_type": "execute_result"
    }
   ],
   "source": [
    "df.shape"
   ]
  },
  {
   "cell_type": "code",
   "execution_count": 34,
   "id": "4c0c77fd",
   "metadata": {},
   "outputs": [
    {
     "data": {
      "text/html": [
       "<div>\n",
       "<style scoped>\n",
       "    .dataframe tbody tr th:only-of-type {\n",
       "        vertical-align: middle;\n",
       "    }\n",
       "\n",
       "    .dataframe tbody tr th {\n",
       "        vertical-align: top;\n",
       "    }\n",
       "\n",
       "    .dataframe thead th {\n",
       "        text-align: right;\n",
       "    }\n",
       "</style>\n",
       "<table border=\"1\" class=\"dataframe\">\n",
       "  <thead>\n",
       "    <tr style=\"text-align: right;\">\n",
       "      <th></th>\n",
       "      <th>reviews</th>\n",
       "      <th>stars</th>\n",
       "      <th>date</th>\n",
       "      <th>country</th>\n",
       "      <th>verified</th>\n",
       "      <th>corpus</th>\n",
       "    </tr>\n",
       "  </thead>\n",
       "  <tbody>\n",
       "    <tr>\n",
       "      <th>0</th>\n",
       "      <td>✅ Trip Verified |  British Airways absolutely ...</td>\n",
       "      <td>5</td>\n",
       "      <td>2023-09-01</td>\n",
       "      <td>United Kingdom</td>\n",
       "      <td>True</td>\n",
       "      <td>british airway absolutely care reserved seat c...</td>\n",
       "    </tr>\n",
       "    <tr>\n",
       "      <th>1</th>\n",
       "      <td>✅ Trip Verified |  My recent experience with B...</td>\n",
       "      <td>1</td>\n",
       "      <td>2023-09-01</td>\n",
       "      <td>United States</td>\n",
       "      <td>True</td>\n",
       "      <td>recent experience british airway horrendous ut...</td>\n",
       "    </tr>\n",
       "    <tr>\n",
       "      <th>2</th>\n",
       "      <td>✅ Trip Verified |  This is to express our disp...</td>\n",
       "      <td>1</td>\n",
       "      <td>2023-08-31</td>\n",
       "      <td>United States</td>\n",
       "      <td>True</td>\n",
       "      <td>express displeasure concern regarding flight i...</td>\n",
       "    </tr>\n",
       "    <tr>\n",
       "      <th>3</th>\n",
       "      <td>✅ Trip Verified |  I flew London to Malaga on ...</td>\n",
       "      <td>1</td>\n",
       "      <td>2023-08-30</td>\n",
       "      <td>United Kingdom</td>\n",
       "      <td>True</td>\n",
       "      <td>flew london malaga august club europe stood ar...</td>\n",
       "    </tr>\n",
       "    <tr>\n",
       "      <th>4</th>\n",
       "      <td>✅ Trip Verified |  I arrived at the airport ab...</td>\n",
       "      <td>1</td>\n",
       "      <td>2023-08-30</td>\n",
       "      <td>Germany</td>\n",
       "      <td>True</td>\n",
       "      <td>arrived airport hour takeoff time get checked ...</td>\n",
       "    </tr>\n",
       "    <tr>\n",
       "      <th>...</th>\n",
       "      <td>...</td>\n",
       "      <td>...</td>\n",
       "      <td>...</td>\n",
       "      <td>...</td>\n",
       "      <td>...</td>\n",
       "      <td>...</td>\n",
       "    </tr>\n",
       "    <tr>\n",
       "      <th>3495</th>\n",
       "      <td>LHR-IAD BA 293 B772ER Club World. Checked-in f...</td>\n",
       "      <td>3</td>\n",
       "      <td>2014-07-06</td>\n",
       "      <td>United States</td>\n",
       "      <td>False</td>\n",
       "      <td>lhr iad ba b er club world checked fairly quic...</td>\n",
       "    </tr>\n",
       "    <tr>\n",
       "      <th>3496</th>\n",
       "      <td>We paid top money for Club Europe and upon lea...</td>\n",
       "      <td>9</td>\n",
       "      <td>2014-07-06</td>\n",
       "      <td>New Zealand</td>\n",
       "      <td>False</td>\n",
       "      <td>paid top money club europe upon leaving uk tho...</td>\n",
       "    </tr>\n",
       "    <tr>\n",
       "      <th>3497</th>\n",
       "      <td>Montreal - LHR. I love BA but sometimes they h...</td>\n",
       "      <td>6</td>\n",
       "      <td>2014-07-06</td>\n",
       "      <td>United Kingdom</td>\n",
       "      <td>False</td>\n",
       "      <td>montreal lhr love ba sometimes day one crew re...</td>\n",
       "    </tr>\n",
       "    <tr>\n",
       "      <th>3498</th>\n",
       "      <td>I flew AMS-LGW-MCO and JFK-LHR-AMS this month....</td>\n",
       "      <td>7</td>\n",
       "      <td>2014-07-01</td>\n",
       "      <td>Netherlands</td>\n",
       "      <td>False</td>\n",
       "      <td>flew am lgw mco jfk lhr am month overall accep...</td>\n",
       "    </tr>\n",
       "    <tr>\n",
       "      <th>3499</th>\n",
       "      <td>LHR-PEK-LHR. We travel BA club world often and...</td>\n",
       "      <td>9</td>\n",
       "      <td>2014-06-30</td>\n",
       "      <td>Spain</td>\n",
       "      <td>False</td>\n",
       "      <td>lhr pek lhr travel ba club world often overall...</td>\n",
       "    </tr>\n",
       "  </tbody>\n",
       "</table>\n",
       "<p>3496 rows × 6 columns</p>\n",
       "</div>"
      ],
      "text/plain": [
       "                                                reviews stars       date  \\\n",
       "0     ✅ Trip Verified |  British Airways absolutely ...     5 2023-09-01   \n",
       "1     ✅ Trip Verified |  My recent experience with B...     1 2023-09-01   \n",
       "2     ✅ Trip Verified |  This is to express our disp...     1 2023-08-31   \n",
       "3     ✅ Trip Verified |  I flew London to Malaga on ...     1 2023-08-30   \n",
       "4     ✅ Trip Verified |  I arrived at the airport ab...     1 2023-08-30   \n",
       "...                                                 ...   ...        ...   \n",
       "3495  LHR-IAD BA 293 B772ER Club World. Checked-in f...     3 2014-07-06   \n",
       "3496  We paid top money for Club Europe and upon lea...     9 2014-07-06   \n",
       "3497  Montreal - LHR. I love BA but sometimes they h...     6 2014-07-06   \n",
       "3498  I flew AMS-LGW-MCO and JFK-LHR-AMS this month....     7 2014-07-01   \n",
       "3499  LHR-PEK-LHR. We travel BA club world often and...     9 2014-06-30   \n",
       "\n",
       "             country  verified  \\\n",
       "0     United Kingdom      True   \n",
       "1      United States      True   \n",
       "2      United States      True   \n",
       "3     United Kingdom      True   \n",
       "4            Germany      True   \n",
       "...              ...       ...   \n",
       "3495   United States     False   \n",
       "3496     New Zealand     False   \n",
       "3497  United Kingdom     False   \n",
       "3498     Netherlands     False   \n",
       "3499           Spain     False   \n",
       "\n",
       "                                                 corpus  \n",
       "0     british airway absolutely care reserved seat c...  \n",
       "1     recent experience british airway horrendous ut...  \n",
       "2     express displeasure concern regarding flight i...  \n",
       "3     flew london malaga august club europe stood ar...  \n",
       "4     arrived airport hour takeoff time get checked ...  \n",
       "...                                                 ...  \n",
       "3495  lhr iad ba b er club world checked fairly quic...  \n",
       "3496  paid top money club europe upon leaving uk tho...  \n",
       "3497  montreal lhr love ba sometimes day one crew re...  \n",
       "3498  flew am lgw mco jfk lhr am month overall accep...  \n",
       "3499  lhr pek lhr travel ba club world often overall...  \n",
       "\n",
       "[3496 rows x 6 columns]"
      ]
     },
     "execution_count": 34,
     "metadata": {},
     "output_type": "execute_result"
    }
   ],
   "source": [
    "df"
   ]
  },
  {
   "cell_type": "code",
   "execution_count": 35,
   "id": "187b0a70",
   "metadata": {},
   "outputs": [
    {
     "data": {
      "text/html": [
       "<div>\n",
       "<style scoped>\n",
       "    .dataframe tbody tr th:only-of-type {\n",
       "        vertical-align: middle;\n",
       "    }\n",
       "\n",
       "    .dataframe tbody tr th {\n",
       "        vertical-align: top;\n",
       "    }\n",
       "\n",
       "    .dataframe thead th {\n",
       "        text-align: right;\n",
       "    }\n",
       "</style>\n",
       "<table border=\"1\" class=\"dataframe\">\n",
       "  <thead>\n",
       "    <tr style=\"text-align: right;\">\n",
       "      <th></th>\n",
       "      <th>reviews</th>\n",
       "      <th>stars</th>\n",
       "      <th>date</th>\n",
       "      <th>country</th>\n",
       "      <th>verified</th>\n",
       "      <th>corpus</th>\n",
       "    </tr>\n",
       "  </thead>\n",
       "  <tbody>\n",
       "    <tr>\n",
       "      <th>0</th>\n",
       "      <td>✅ Trip Verified |  British Airways absolutely ...</td>\n",
       "      <td>5</td>\n",
       "      <td>2023-09-01</td>\n",
       "      <td>United Kingdom</td>\n",
       "      <td>True</td>\n",
       "      <td>british airway absolutely care reserved seat c...</td>\n",
       "    </tr>\n",
       "    <tr>\n",
       "      <th>1</th>\n",
       "      <td>✅ Trip Verified |  My recent experience with B...</td>\n",
       "      <td>1</td>\n",
       "      <td>2023-09-01</td>\n",
       "      <td>United States</td>\n",
       "      <td>True</td>\n",
       "      <td>recent experience british airway horrendous ut...</td>\n",
       "    </tr>\n",
       "    <tr>\n",
       "      <th>2</th>\n",
       "      <td>✅ Trip Verified |  This is to express our disp...</td>\n",
       "      <td>1</td>\n",
       "      <td>2023-08-31</td>\n",
       "      <td>United States</td>\n",
       "      <td>True</td>\n",
       "      <td>express displeasure concern regarding flight i...</td>\n",
       "    </tr>\n",
       "    <tr>\n",
       "      <th>3</th>\n",
       "      <td>✅ Trip Verified |  I flew London to Malaga on ...</td>\n",
       "      <td>1</td>\n",
       "      <td>2023-08-30</td>\n",
       "      <td>United Kingdom</td>\n",
       "      <td>True</td>\n",
       "      <td>flew london malaga august club europe stood ar...</td>\n",
       "    </tr>\n",
       "    <tr>\n",
       "      <th>4</th>\n",
       "      <td>✅ Trip Verified |  I arrived at the airport ab...</td>\n",
       "      <td>1</td>\n",
       "      <td>2023-08-30</td>\n",
       "      <td>Germany</td>\n",
       "      <td>True</td>\n",
       "      <td>arrived airport hour takeoff time get checked ...</td>\n",
       "    </tr>\n",
       "    <tr>\n",
       "      <th>...</th>\n",
       "      <td>...</td>\n",
       "      <td>...</td>\n",
       "      <td>...</td>\n",
       "      <td>...</td>\n",
       "      <td>...</td>\n",
       "      <td>...</td>\n",
       "    </tr>\n",
       "    <tr>\n",
       "      <th>3491</th>\n",
       "      <td>LHR-IAD BA 293 B772ER Club World. Checked-in f...</td>\n",
       "      <td>3</td>\n",
       "      <td>2014-07-06</td>\n",
       "      <td>United States</td>\n",
       "      <td>False</td>\n",
       "      <td>lhr iad ba b er club world checked fairly quic...</td>\n",
       "    </tr>\n",
       "    <tr>\n",
       "      <th>3492</th>\n",
       "      <td>We paid top money for Club Europe and upon lea...</td>\n",
       "      <td>9</td>\n",
       "      <td>2014-07-06</td>\n",
       "      <td>New Zealand</td>\n",
       "      <td>False</td>\n",
       "      <td>paid top money club europe upon leaving uk tho...</td>\n",
       "    </tr>\n",
       "    <tr>\n",
       "      <th>3493</th>\n",
       "      <td>Montreal - LHR. I love BA but sometimes they h...</td>\n",
       "      <td>6</td>\n",
       "      <td>2014-07-06</td>\n",
       "      <td>United Kingdom</td>\n",
       "      <td>False</td>\n",
       "      <td>montreal lhr love ba sometimes day one crew re...</td>\n",
       "    </tr>\n",
       "    <tr>\n",
       "      <th>3494</th>\n",
       "      <td>I flew AMS-LGW-MCO and JFK-LHR-AMS this month....</td>\n",
       "      <td>7</td>\n",
       "      <td>2014-07-01</td>\n",
       "      <td>Netherlands</td>\n",
       "      <td>False</td>\n",
       "      <td>flew am lgw mco jfk lhr am month overall accep...</td>\n",
       "    </tr>\n",
       "    <tr>\n",
       "      <th>3495</th>\n",
       "      <td>LHR-PEK-LHR. We travel BA club world often and...</td>\n",
       "      <td>9</td>\n",
       "      <td>2014-06-30</td>\n",
       "      <td>Spain</td>\n",
       "      <td>False</td>\n",
       "      <td>lhr pek lhr travel ba club world often overall...</td>\n",
       "    </tr>\n",
       "  </tbody>\n",
       "</table>\n",
       "<p>3496 rows × 6 columns</p>\n",
       "</div>"
      ],
      "text/plain": [
       "                                                reviews stars       date  \\\n",
       "0     ✅ Trip Verified |  British Airways absolutely ...     5 2023-09-01   \n",
       "1     ✅ Trip Verified |  My recent experience with B...     1 2023-09-01   \n",
       "2     ✅ Trip Verified |  This is to express our disp...     1 2023-08-31   \n",
       "3     ✅ Trip Verified |  I flew London to Malaga on ...     1 2023-08-30   \n",
       "4     ✅ Trip Verified |  I arrived at the airport ab...     1 2023-08-30   \n",
       "...                                                 ...   ...        ...   \n",
       "3491  LHR-IAD BA 293 B772ER Club World. Checked-in f...     3 2014-07-06   \n",
       "3492  We paid top money for Club Europe and upon lea...     9 2014-07-06   \n",
       "3493  Montreal - LHR. I love BA but sometimes they h...     6 2014-07-06   \n",
       "3494  I flew AMS-LGW-MCO and JFK-LHR-AMS this month....     7 2014-07-01   \n",
       "3495  LHR-PEK-LHR. We travel BA club world often and...     9 2014-06-30   \n",
       "\n",
       "             country  verified  \\\n",
       "0     United Kingdom      True   \n",
       "1      United States      True   \n",
       "2      United States      True   \n",
       "3     United Kingdom      True   \n",
       "4            Germany      True   \n",
       "...              ...       ...   \n",
       "3491   United States     False   \n",
       "3492     New Zealand     False   \n",
       "3493  United Kingdom     False   \n",
       "3494     Netherlands     False   \n",
       "3495           Spain     False   \n",
       "\n",
       "                                                 corpus  \n",
       "0     british airway absolutely care reserved seat c...  \n",
       "1     recent experience british airway horrendous ut...  \n",
       "2     express displeasure concern regarding flight i...  \n",
       "3     flew london malaga august club europe stood ar...  \n",
       "4     arrived airport hour takeoff time get checked ...  \n",
       "...                                                 ...  \n",
       "3491  lhr iad ba b er club world checked fairly quic...  \n",
       "3492  paid top money club europe upon leaving uk tho...  \n",
       "3493  montreal lhr love ba sometimes day one crew re...  \n",
       "3494  flew am lgw mco jfk lhr am month overall accep...  \n",
       "3495  lhr pek lhr travel ba club world often overall...  \n",
       "\n",
       "[3496 rows x 6 columns]"
      ]
     },
     "execution_count": 35,
     "metadata": {},
     "output_type": "execute_result"
    }
   ],
   "source": [
    "df.reset_index(drop=True)"
   ]
  },
  {
   "cell_type": "code",
   "execution_count": 36,
   "id": "393efd8d",
   "metadata": {},
   "outputs": [],
   "source": [
    "df.to_csv('BAdatacleaned.csv')"
   ]
  },
  {
   "cell_type": "code",
   "execution_count": 38,
   "id": "403ea8f5",
   "metadata": {},
   "outputs": [
    {
     "data": {
      "text/html": [
       "<div>\n",
       "<style scoped>\n",
       "    .dataframe tbody tr th:only-of-type {\n",
       "        vertical-align: middle;\n",
       "    }\n",
       "\n",
       "    .dataframe tbody tr th {\n",
       "        vertical-align: top;\n",
       "    }\n",
       "\n",
       "    .dataframe thead th {\n",
       "        text-align: right;\n",
       "    }\n",
       "</style>\n",
       "<table border=\"1\" class=\"dataframe\">\n",
       "  <thead>\n",
       "    <tr style=\"text-align: right;\">\n",
       "      <th></th>\n",
       "      <th>stars</th>\n",
       "      <th>date</th>\n",
       "      <th>country</th>\n",
       "      <th>verified</th>\n",
       "      <th>corpus</th>\n",
       "    </tr>\n",
       "  </thead>\n",
       "  <tbody>\n",
       "    <tr>\n",
       "      <th>0</th>\n",
       "      <td>5</td>\n",
       "      <td>2023-09-01</td>\n",
       "      <td>United Kingdom</td>\n",
       "      <td>True</td>\n",
       "      <td>british airway absolutely care reserved seat c...</td>\n",
       "    </tr>\n",
       "    <tr>\n",
       "      <th>1</th>\n",
       "      <td>1</td>\n",
       "      <td>2023-09-01</td>\n",
       "      <td>United States</td>\n",
       "      <td>True</td>\n",
       "      <td>recent experience british airway horrendous ut...</td>\n",
       "    </tr>\n",
       "    <tr>\n",
       "      <th>2</th>\n",
       "      <td>1</td>\n",
       "      <td>2023-08-31</td>\n",
       "      <td>United States</td>\n",
       "      <td>True</td>\n",
       "      <td>express displeasure concern regarding flight i...</td>\n",
       "    </tr>\n",
       "    <tr>\n",
       "      <th>3</th>\n",
       "      <td>1</td>\n",
       "      <td>2023-08-30</td>\n",
       "      <td>United Kingdom</td>\n",
       "      <td>True</td>\n",
       "      <td>flew london malaga august club europe stood ar...</td>\n",
       "    </tr>\n",
       "    <tr>\n",
       "      <th>4</th>\n",
       "      <td>1</td>\n",
       "      <td>2023-08-30</td>\n",
       "      <td>Germany</td>\n",
       "      <td>True</td>\n",
       "      <td>arrived airport hour takeoff time get checked ...</td>\n",
       "    </tr>\n",
       "    <tr>\n",
       "      <th>...</th>\n",
       "      <td>...</td>\n",
       "      <td>...</td>\n",
       "      <td>...</td>\n",
       "      <td>...</td>\n",
       "      <td>...</td>\n",
       "    </tr>\n",
       "    <tr>\n",
       "      <th>3495</th>\n",
       "      <td>3</td>\n",
       "      <td>2014-07-06</td>\n",
       "      <td>United States</td>\n",
       "      <td>False</td>\n",
       "      <td>lhr iad ba b er club world checked fairly quic...</td>\n",
       "    </tr>\n",
       "    <tr>\n",
       "      <th>3496</th>\n",
       "      <td>9</td>\n",
       "      <td>2014-07-06</td>\n",
       "      <td>New Zealand</td>\n",
       "      <td>False</td>\n",
       "      <td>paid top money club europe upon leaving uk tho...</td>\n",
       "    </tr>\n",
       "    <tr>\n",
       "      <th>3497</th>\n",
       "      <td>6</td>\n",
       "      <td>2014-07-06</td>\n",
       "      <td>United Kingdom</td>\n",
       "      <td>False</td>\n",
       "      <td>montreal lhr love ba sometimes day one crew re...</td>\n",
       "    </tr>\n",
       "    <tr>\n",
       "      <th>3498</th>\n",
       "      <td>7</td>\n",
       "      <td>2014-07-01</td>\n",
       "      <td>Netherlands</td>\n",
       "      <td>False</td>\n",
       "      <td>flew am lgw mco jfk lhr am month overall accep...</td>\n",
       "    </tr>\n",
       "    <tr>\n",
       "      <th>3499</th>\n",
       "      <td>9</td>\n",
       "      <td>2014-06-30</td>\n",
       "      <td>Spain</td>\n",
       "      <td>False</td>\n",
       "      <td>lhr pek lhr travel ba club world often overall...</td>\n",
       "    </tr>\n",
       "  </tbody>\n",
       "</table>\n",
       "<p>3496 rows × 5 columns</p>\n",
       "</div>"
      ],
      "text/plain": [
       "     stars       date         country  verified  \\\n",
       "0        5 2023-09-01  United Kingdom      True   \n",
       "1        1 2023-09-01   United States      True   \n",
       "2        1 2023-08-31   United States      True   \n",
       "3        1 2023-08-30  United Kingdom      True   \n",
       "4        1 2023-08-30         Germany      True   \n",
       "...    ...        ...             ...       ...   \n",
       "3495     3 2014-07-06   United States     False   \n",
       "3496     9 2014-07-06     New Zealand     False   \n",
       "3497     6 2014-07-06  United Kingdom     False   \n",
       "3498     7 2014-07-01     Netherlands     False   \n",
       "3499     9 2014-06-30           Spain     False   \n",
       "\n",
       "                                                 corpus  \n",
       "0     british airway absolutely care reserved seat c...  \n",
       "1     recent experience british airway horrendous ut...  \n",
       "2     express displeasure concern regarding flight i...  \n",
       "3     flew london malaga august club europe stood ar...  \n",
       "4     arrived airport hour takeoff time get checked ...  \n",
       "...                                                 ...  \n",
       "3495  lhr iad ba b er club world checked fairly quic...  \n",
       "3496  paid top money club europe upon leaving uk tho...  \n",
       "3497  montreal lhr love ba sometimes day one crew re...  \n",
       "3498  flew am lgw mco jfk lhr am month overall accep...  \n",
       "3499  lhr pek lhr travel ba club world often overall...  \n",
       "\n",
       "[3496 rows x 5 columns]"
      ]
     },
     "execution_count": 38,
     "metadata": {},
     "output_type": "execute_result"
    }
   ],
   "source": [
    "df.drop('reviews',axis=1)"
   ]
  },
  {
   "cell_type": "code",
   "execution_count": 39,
   "id": "d4749d4a",
   "metadata": {},
   "outputs": [],
   "source": [
    "df.to_csv('BATableau.csv')"
   ]
  },
  {
   "cell_type": "code",
   "execution_count": null,
   "id": "289792cb",
   "metadata": {},
   "outputs": [],
   "source": []
  }
 ],
 "metadata": {
  "kernelspec": {
   "display_name": "Python 3 (ipykernel)",
   "language": "python",
   "name": "python3"
  },
  "language_info": {
   "codemirror_mode": {
    "name": "ipython",
    "version": 3
   },
   "file_extension": ".py",
   "mimetype": "text/x-python",
   "name": "python",
   "nbconvert_exporter": "python",
   "pygments_lexer": "ipython3",
   "version": "3.9.13"
  }
 },
 "nbformat": 4,
 "nbformat_minor": 5
}
